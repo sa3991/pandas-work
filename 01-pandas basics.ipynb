{
 "cells": [
  {
   "cell_type": "markdown",
   "id": "c8e1cb81-6b9e-4e41-abfb-03bb410afbd9",
   "metadata": {},
   "source": [
    "# Pandas basics"
   ]
  },
  {
   "cell_type": "code",
   "execution_count": 73,
   "id": "c2727f7f-9abf-4a76-b629-4d242065048d",
   "metadata": {},
   "outputs": [
    {
     "name": "stdout",
     "output_type": "stream",
     "text": [
      "01-pandas basics.ipynb continent_facts.csv    countries.csv\n"
     ]
    }
   ],
   "source": [
    "!ls"
   ]
  },
  {
   "cell_type": "code",
   "execution_count": 74,
   "id": "5a87a2bb-5840-404d-b079-9e8db56a6d91",
   "metadata": {},
   "outputs": [],
   "source": [
    "#The '!\" allows you to run command line commands in a notebook\n",
    "#Find out where the notebbok is with pwd and move the info to that location"
   ]
  },
  {
   "cell_type": "code",
   "execution_count": 75,
   "id": "10f8cf23-4b0f-4105-b1bd-a545e7d6eac7",
   "metadata": {},
   "outputs": [],
   "source": [
    "!pip install --quiet pandas"
   ]
  },
  {
   "cell_type": "code",
   "execution_count": 76,
   "id": "32eed036-bc03-4741-91c9-9c31d6d28dfa",
   "metadata": {},
   "outputs": [],
   "source": [
    "import requests"
   ]
  },
  {
   "cell_type": "code",
   "execution_count": 77,
   "id": "e1e930c8-266c-4caf-b5bd-4b6cbd98b2da",
   "metadata": {},
   "outputs": [],
   "source": [
    "import pandas as pd"
   ]
  },
  {
   "cell_type": "code",
   "execution_count": 78,
   "id": "de52f66b-67fc-471e-a732-9e0df65c6c22",
   "metadata": {},
   "outputs": [],
   "source": [
    "df = pd.read_csv(\"countries.csv\")"
   ]
  },
  {
   "cell_type": "code",
   "execution_count": 79,
   "id": "30c537be-a30f-4f1e-b1b6-ddefa760391c",
   "metadata": {},
   "outputs": [
    {
     "data": {
      "text/html": [
       "<div>\n",
       "<style scoped>\n",
       "    .dataframe tbody tr th:only-of-type {\n",
       "        vertical-align: middle;\n",
       "    }\n",
       "\n",
       "    .dataframe tbody tr th {\n",
       "        vertical-align: top;\n",
       "    }\n",
       "\n",
       "    .dataframe thead th {\n",
       "        text-align: right;\n",
       "    }\n",
       "</style>\n",
       "<table border=\"1\" class=\"dataframe\">\n",
       "  <thead>\n",
       "    <tr style=\"text-align: right;\">\n",
       "      <th></th>\n",
       "      <th>country</th>\n",
       "      <th>continent</th>\n",
       "      <th>life_expectancy</th>\n",
       "      <th>population</th>\n",
       "      <th>gdp</th>\n",
       "    </tr>\n",
       "  </thead>\n",
       "  <tbody>\n",
       "    <tr>\n",
       "      <th>83</th>\n",
       "      <td>Japan</td>\n",
       "      <td>Asia</td>\n",
       "      <td>81.350</td>\n",
       "      <td>125720310</td>\n",
       "      <td>3590446333290</td>\n",
       "    </tr>\n",
       "    <tr>\n",
       "      <th>72</th>\n",
       "      <td>Hong Kong, China</td>\n",
       "      <td>Asia</td>\n",
       "      <td>80.361</td>\n",
       "      <td>6783317</td>\n",
       "      <td>203309577124</td>\n",
       "    </tr>\n",
       "    <tr>\n",
       "      <th>161</th>\n",
       "      <td>Switzerland</td>\n",
       "      <td>Europe</td>\n",
       "      <td>79.990</td>\n",
       "      <td>7167908</td>\n",
       "      <td>246475684488</td>\n",
       "    </tr>\n",
       "    <tr>\n",
       "      <th>7</th>\n",
       "      <td>Australia</td>\n",
       "      <td>Oceania</td>\n",
       "      <td>79.930</td>\n",
       "      <td>19164351</td>\n",
       "      <td>560384787591</td>\n",
       "    </tr>\n",
       "    <tr>\n",
       "      <th>160</th>\n",
       "      <td>Sweden</td>\n",
       "      <td>Europe</td>\n",
       "      <td>79.840</td>\n",
       "      <td>8860153</td>\n",
       "      <td>253754781920</td>\n",
       "    </tr>\n",
       "    <tr>\n",
       "      <th>...</th>\n",
       "      <td>...</td>\n",
       "      <td>...</td>\n",
       "      <td>...</td>\n",
       "      <td>...</td>\n",
       "      <td>...</td>\n",
       "    </tr>\n",
       "    <tr>\n",
       "      <th>3</th>\n",
       "      <td>Angola</td>\n",
       "      <td>Africa</td>\n",
       "      <td>45.234</td>\n",
       "      <td>13926373</td>\n",
       "      <td>34063908358</td>\n",
       "    </tr>\n",
       "    <tr>\n",
       "      <th>187</th>\n",
       "      <td>Zimbabwe</td>\n",
       "      <td>Africa</td>\n",
       "      <td>43.976</td>\n",
       "      <td>12509477</td>\n",
       "      <td>9319560365</td>\n",
       "    </tr>\n",
       "    <tr>\n",
       "      <th>31</th>\n",
       "      <td>Central African Rep.</td>\n",
       "      <td>Africa</td>\n",
       "      <td>43.727</td>\n",
       "      <td>3701607</td>\n",
       "      <td>2820624534</td>\n",
       "    </tr>\n",
       "    <tr>\n",
       "      <th>186</th>\n",
       "      <td>Zambia</td>\n",
       "      <td>Africa</td>\n",
       "      <td>41.802</td>\n",
       "      <td>10201562</td>\n",
       "      <td>10558616670</td>\n",
       "    </tr>\n",
       "    <tr>\n",
       "      <th>147</th>\n",
       "      <td>Sierra Leone</td>\n",
       "      <td>Africa</td>\n",
       "      <td>38.123</td>\n",
       "      <td>4143115</td>\n",
       "      <td>2141990455</td>\n",
       "    </tr>\n",
       "  </tbody>\n",
       "</table>\n",
       "<p>188 rows × 5 columns</p>\n",
       "</div>"
      ],
      "text/plain": [
       "                  country continent  life_expectancy  population  \\\n",
       "83                  Japan      Asia           81.350   125720310   \n",
       "72       Hong Kong, China      Asia           80.361     6783317   \n",
       "161           Switzerland    Europe           79.990     7167908   \n",
       "7               Australia   Oceania           79.930    19164351   \n",
       "160                Sweden    Europe           79.840     8860153   \n",
       "..                    ...       ...              ...         ...   \n",
       "3                  Angola    Africa           45.234    13926373   \n",
       "187              Zimbabwe    Africa           43.976    12509477   \n",
       "31   Central African Rep.    Africa           43.727     3701607   \n",
       "186                Zambia    Africa           41.802    10201562   \n",
       "147          Sierra Leone    Africa           38.123     4143115   \n",
       "\n",
       "               gdp  \n",
       "83   3590446333290  \n",
       "72    203309577124  \n",
       "161   246475684488  \n",
       "7     560384787591  \n",
       "160   253754781920  \n",
       "..             ...  \n",
       "3      34063908358  \n",
       "187     9319560365  \n",
       "31      2820624534  \n",
       "186    10558616670  \n",
       "147     2141990455  \n",
       "\n",
       "[188 rows x 5 columns]"
      ]
     },
     "execution_count": 79,
     "metadata": {},
     "output_type": "execute_result"
    }
   ],
   "source": [
    "df.sort_values('life_expectancy', ascending =False)"
   ]
  },
  {
   "cell_type": "code",
   "execution_count": 80,
   "id": "fe033837-f00e-4ec4-809e-67f595ebc329",
   "metadata": {},
   "outputs": [
    {
     "data": {
      "text/html": [
       "<div>\n",
       "<style scoped>\n",
       "    .dataframe tbody tr th:only-of-type {\n",
       "        vertical-align: middle;\n",
       "    }\n",
       "\n",
       "    .dataframe tbody tr th {\n",
       "        vertical-align: top;\n",
       "    }\n",
       "\n",
       "    .dataframe thead th {\n",
       "        text-align: right;\n",
       "    }\n",
       "</style>\n",
       "<table border=\"1\" class=\"dataframe\">\n",
       "  <thead>\n",
       "    <tr style=\"text-align: right;\">\n",
       "      <th></th>\n",
       "      <th>country</th>\n",
       "      <th>continent</th>\n",
       "      <th>life_expectancy</th>\n",
       "      <th>population</th>\n",
       "      <th>gdp</th>\n",
       "    </tr>\n",
       "  </thead>\n",
       "  <tbody>\n",
       "    <tr>\n",
       "      <th>0</th>\n",
       "      <td>Afghanistan</td>\n",
       "      <td>Asia</td>\n",
       "      <td>54.863</td>\n",
       "      <td>22856302</td>\n",
       "      <td>15153728226</td>\n",
       "    </tr>\n",
       "    <tr>\n",
       "      <th>1</th>\n",
       "      <td>Albania</td>\n",
       "      <td>Europe</td>\n",
       "      <td>74.200</td>\n",
       "      <td>3071856</td>\n",
       "      <td>12886435920</td>\n",
       "    </tr>\n",
       "    <tr>\n",
       "      <th>2</th>\n",
       "      <td>Algeria</td>\n",
       "      <td>Africa</td>\n",
       "      <td>68.963</td>\n",
       "      <td>30533827</td>\n",
       "      <td>155661450046</td>\n",
       "    </tr>\n",
       "    <tr>\n",
       "      <th>3</th>\n",
       "      <td>Angola</td>\n",
       "      <td>Africa</td>\n",
       "      <td>45.234</td>\n",
       "      <td>13926373</td>\n",
       "      <td>34063908358</td>\n",
       "    </tr>\n",
       "    <tr>\n",
       "      <th>4</th>\n",
       "      <td>Antigua and Barbuda</td>\n",
       "      <td>N. America</td>\n",
       "      <td>73.544</td>\n",
       "      <td>77656</td>\n",
       "      <td>989182128</td>\n",
       "    </tr>\n",
       "  </tbody>\n",
       "</table>\n",
       "</div>"
      ],
      "text/plain": [
       "               country   continent  life_expectancy  population           gdp\n",
       "0          Afghanistan        Asia           54.863    22856302   15153728226\n",
       "1              Albania      Europe           74.200     3071856   12886435920\n",
       "2              Algeria      Africa           68.963    30533827  155661450046\n",
       "3               Angola      Africa           45.234    13926373   34063908358\n",
       "4  Antigua and Barbuda  N. America           73.544       77656     989182128"
      ]
     },
     "execution_count": 80,
     "metadata": {},
     "output_type": "execute_result"
    }
   ],
   "source": [
    "df.head()"
   ]
  },
  {
   "cell_type": "code",
   "execution_count": 81,
   "id": "e09c2f13-7ddc-4c6d-98eb-826ff6e73c0e",
   "metadata": {},
   "outputs": [],
   "source": [
    "#df.head() gives you the first five rows"
   ]
  },
  {
   "cell_type": "code",
   "execution_count": 82,
   "id": "5c8b5e69-c5cb-4e4b-aff0-6d0f5effe1b7",
   "metadata": {},
   "outputs": [
    {
     "data": {
      "text/html": [
       "<div>\n",
       "<style scoped>\n",
       "    .dataframe tbody tr th:only-of-type {\n",
       "        vertical-align: middle;\n",
       "    }\n",
       "\n",
       "    .dataframe tbody tr th {\n",
       "        vertical-align: top;\n",
       "    }\n",
       "\n",
       "    .dataframe thead th {\n",
       "        text-align: right;\n",
       "    }\n",
       "</style>\n",
       "<table border=\"1\" class=\"dataframe\">\n",
       "  <thead>\n",
       "    <tr style=\"text-align: right;\">\n",
       "      <th></th>\n",
       "      <th>country</th>\n",
       "      <th>continent</th>\n",
       "      <th>life_expectancy</th>\n",
       "      <th>population</th>\n",
       "      <th>gdp</th>\n",
       "    </tr>\n",
       "  </thead>\n",
       "  <tbody>\n",
       "    <tr>\n",
       "      <th>183</th>\n",
       "      <td>Vietnam</td>\n",
       "      <td>Asia</td>\n",
       "      <td>73.777</td>\n",
       "      <td>78758010</td>\n",
       "      <td>124201381770</td>\n",
       "    </tr>\n",
       "    <tr>\n",
       "      <th>184</th>\n",
       "      <td>West Bank and Gaza</td>\n",
       "      <td>Asia</td>\n",
       "      <td>70.929</td>\n",
       "      <td>3198560</td>\n",
       "      <td>24264276160</td>\n",
       "    </tr>\n",
       "    <tr>\n",
       "      <th>185</th>\n",
       "      <td>Yemen, Rep.</td>\n",
       "      <td>Asia</td>\n",
       "      <td>60.404</td>\n",
       "      <td>17723186</td>\n",
       "      <td>39292303362</td>\n",
       "    </tr>\n",
       "    <tr>\n",
       "      <th>186</th>\n",
       "      <td>Zambia</td>\n",
       "      <td>Africa</td>\n",
       "      <td>41.802</td>\n",
       "      <td>10201562</td>\n",
       "      <td>10558616670</td>\n",
       "    </tr>\n",
       "    <tr>\n",
       "      <th>187</th>\n",
       "      <td>Zimbabwe</td>\n",
       "      <td>Africa</td>\n",
       "      <td>43.976</td>\n",
       "      <td>12509477</td>\n",
       "      <td>9319560365</td>\n",
       "    </tr>\n",
       "  </tbody>\n",
       "</table>\n",
       "</div>"
      ],
      "text/plain": [
       "                country continent  life_expectancy  population           gdp\n",
       "183             Vietnam      Asia           73.777    78758010  124201381770\n",
       "184  West Bank and Gaza      Asia           70.929     3198560   24264276160\n",
       "185         Yemen, Rep.      Asia           60.404    17723186   39292303362\n",
       "186              Zambia    Africa           41.802    10201562   10558616670\n",
       "187            Zimbabwe    Africa           43.976    12509477    9319560365"
      ]
     },
     "execution_count": 82,
     "metadata": {},
     "output_type": "execute_result"
    }
   ],
   "source": [
    "df.tail()"
   ]
  },
  {
   "cell_type": "code",
   "execution_count": 83,
   "id": "52ea69ef-e88d-459c-a289-9675696d8811",
   "metadata": {},
   "outputs": [],
   "source": [
    "#df.tail() gives you the last five rows"
   ]
  },
  {
   "cell_type": "code",
   "execution_count": 84,
   "id": "ed44ecfc-36e8-470c-8c23-8a1f6759ace9",
   "metadata": {},
   "outputs": [],
   "source": [
    "#How do you get the life expectancy of every single country: "
   ]
  },
  {
   "cell_type": "code",
   "execution_count": 85,
   "id": "1bc33acb-af58-49b8-a4c9-666081e7c311",
   "metadata": {},
   "outputs": [
    {
     "data": {
      "text/plain": [
       "0      54.863\n",
       "1      74.200\n",
       "2      68.963\n",
       "3      45.234\n",
       "4      73.544\n",
       "        ...  \n",
       "183    73.777\n",
       "184    70.929\n",
       "185    60.404\n",
       "186    41.802\n",
       "187    43.976\n",
       "Name: life_expectancy, Length: 188, dtype: float64"
      ]
     },
     "execution_count": 85,
     "metadata": {},
     "output_type": "execute_result"
    }
   ],
   "source": [
    "#when you use one dataframe, with brackets, you're throwing away the other columns\n",
    "df['life_expectancy']"
   ]
  },
  {
   "cell_type": "code",
   "execution_count": 86,
   "id": "43e2e2ae-fe5b-4dae-8f99-4baaab12f51c",
   "metadata": {},
   "outputs": [],
   "source": [
    "#One column is a series, more columns is a dataframe"
   ]
  },
  {
   "cell_type": "code",
   "execution_count": 87,
   "id": "8c62cde1-eda1-4c5e-bfcd-2ed0b46ad679",
   "metadata": {},
   "outputs": [
    {
     "data": {
      "text/html": [
       "<div>\n",
       "<style scoped>\n",
       "    .dataframe tbody tr th:only-of-type {\n",
       "        vertical-align: middle;\n",
       "    }\n",
       "\n",
       "    .dataframe tbody tr th {\n",
       "        vertical-align: top;\n",
       "    }\n",
       "\n",
       "    .dataframe thead th {\n",
       "        text-align: right;\n",
       "    }\n",
       "</style>\n",
       "<table border=\"1\" class=\"dataframe\">\n",
       "  <thead>\n",
       "    <tr style=\"text-align: right;\">\n",
       "      <th></th>\n",
       "      <th>country</th>\n",
       "      <th>continent</th>\n",
       "      <th>life_expectancy</th>\n",
       "      <th>population</th>\n",
       "      <th>gdp</th>\n",
       "    </tr>\n",
       "  </thead>\n",
       "  <tbody>\n",
       "    <tr>\n",
       "      <th>83</th>\n",
       "      <td>Japan</td>\n",
       "      <td>Asia</td>\n",
       "      <td>81.350</td>\n",
       "      <td>125720310</td>\n",
       "      <td>3590446333290</td>\n",
       "    </tr>\n",
       "    <tr>\n",
       "      <th>72</th>\n",
       "      <td>Hong Kong, China</td>\n",
       "      <td>Asia</td>\n",
       "      <td>80.361</td>\n",
       "      <td>6783317</td>\n",
       "      <td>203309577124</td>\n",
       "    </tr>\n",
       "    <tr>\n",
       "      <th>161</th>\n",
       "      <td>Switzerland</td>\n",
       "      <td>Europe</td>\n",
       "      <td>79.990</td>\n",
       "      <td>7167908</td>\n",
       "      <td>246475684488</td>\n",
       "    </tr>\n",
       "    <tr>\n",
       "      <th>7</th>\n",
       "      <td>Australia</td>\n",
       "      <td>Oceania</td>\n",
       "      <td>79.930</td>\n",
       "      <td>19164351</td>\n",
       "      <td>560384787591</td>\n",
       "    </tr>\n",
       "    <tr>\n",
       "      <th>160</th>\n",
       "      <td>Sweden</td>\n",
       "      <td>Europe</td>\n",
       "      <td>79.840</td>\n",
       "      <td>8860153</td>\n",
       "      <td>253754781920</td>\n",
       "    </tr>\n",
       "    <tr>\n",
       "      <th>81</th>\n",
       "      <td>Italy</td>\n",
       "      <td>Europe</td>\n",
       "      <td>79.730</td>\n",
       "      <td>56986329</td>\n",
       "      <td>1547748695640</td>\n",
       "    </tr>\n",
       "    <tr>\n",
       "      <th>74</th>\n",
       "      <td>Iceland</td>\n",
       "      <td>Europe</td>\n",
       "      <td>79.720</td>\n",
       "      <td>281210</td>\n",
       "      <td>8743381320</td>\n",
       "    </tr>\n",
       "    <tr>\n",
       "      <th>29</th>\n",
       "      <td>Canada</td>\n",
       "      <td>N. America</td>\n",
       "      <td>79.410</td>\n",
       "      <td>30667365</td>\n",
       "      <td>995094659520</td>\n",
       "    </tr>\n",
       "    <tr>\n",
       "      <th>155</th>\n",
       "      <td>Spain</td>\n",
       "      <td>Europe</td>\n",
       "      <td>79.340</td>\n",
       "      <td>40288457</td>\n",
       "      <td>943152778370</td>\n",
       "    </tr>\n",
       "    <tr>\n",
       "      <th>57</th>\n",
       "      <td>France</td>\n",
       "      <td>Europe</td>\n",
       "      <td>79.230</td>\n",
       "      <td>59047795</td>\n",
       "      <td>1690892657620</td>\n",
       "    </tr>\n",
       "  </tbody>\n",
       "</table>\n",
       "</div>"
      ],
      "text/plain": [
       "              country   continent  life_expectancy  population            gdp\n",
       "83              Japan        Asia           81.350   125720310  3590446333290\n",
       "72   Hong Kong, China        Asia           80.361     6783317   203309577124\n",
       "161       Switzerland      Europe           79.990     7167908   246475684488\n",
       "7           Australia     Oceania           79.930    19164351   560384787591\n",
       "160            Sweden      Europe           79.840     8860153   253754781920\n",
       "81              Italy      Europe           79.730    56986329  1547748695640\n",
       "74            Iceland      Europe           79.720      281210     8743381320\n",
       "29             Canada  N. America           79.410    30667365   995094659520\n",
       "155             Spain      Europe           79.340    40288457   943152778370\n",
       "57             France      Europe           79.230    59047795  1690892657620"
      ]
     },
     "execution_count": 87,
     "metadata": {},
     "output_type": "execute_result"
    }
   ],
   "source": [
    "#if you wanted to do 10 teop life expectancies do\n",
    "df.sort_values('life_expectancy', ascending=False).head(10)"
   ]
  },
  {
   "cell_type": "code",
   "execution_count": 88,
   "id": "1d63c180-19a7-413a-8887-06c6616029e2",
   "metadata": {},
   "outputs": [
    {
     "data": {
      "text/html": [
       "<div>\n",
       "<style scoped>\n",
       "    .dataframe tbody tr th:only-of-type {\n",
       "        vertical-align: middle;\n",
       "    }\n",
       "\n",
       "    .dataframe tbody tr th {\n",
       "        vertical-align: top;\n",
       "    }\n",
       "\n",
       "    .dataframe thead th {\n",
       "        text-align: right;\n",
       "    }\n",
       "</style>\n",
       "<table border=\"1\" class=\"dataframe\">\n",
       "  <thead>\n",
       "    <tr style=\"text-align: right;\">\n",
       "      <th></th>\n",
       "      <th>country</th>\n",
       "      <th>continent</th>\n",
       "      <th>life_expectancy</th>\n",
       "      <th>population</th>\n",
       "      <th>gdp</th>\n",
       "    </tr>\n",
       "  </thead>\n",
       "  <tbody>\n",
       "    <tr>\n",
       "      <th>0</th>\n",
       "      <td>Afghanistan</td>\n",
       "      <td>Asia</td>\n",
       "      <td>54.863</td>\n",
       "      <td>22856302</td>\n",
       "      <td>15153728226</td>\n",
       "    </tr>\n",
       "    <tr>\n",
       "      <th>1</th>\n",
       "      <td>Albania</td>\n",
       "      <td>Europe</td>\n",
       "      <td>74.200</td>\n",
       "      <td>3071856</td>\n",
       "      <td>12886435920</td>\n",
       "    </tr>\n",
       "    <tr>\n",
       "      <th>2</th>\n",
       "      <td>Algeria</td>\n",
       "      <td>Africa</td>\n",
       "      <td>68.963</td>\n",
       "      <td>30533827</td>\n",
       "      <td>155661450046</td>\n",
       "    </tr>\n",
       "    <tr>\n",
       "      <th>3</th>\n",
       "      <td>Angola</td>\n",
       "      <td>Africa</td>\n",
       "      <td>45.234</td>\n",
       "      <td>13926373</td>\n",
       "      <td>34063908358</td>\n",
       "    </tr>\n",
       "    <tr>\n",
       "      <th>4</th>\n",
       "      <td>Antigua and Barbuda</td>\n",
       "      <td>N. America</td>\n",
       "      <td>73.544</td>\n",
       "      <td>77656</td>\n",
       "      <td>989182128</td>\n",
       "    </tr>\n",
       "  </tbody>\n",
       "</table>\n",
       "</div>"
      ],
      "text/plain": [
       "               country   continent  life_expectancy  population           gdp\n",
       "0          Afghanistan        Asia           54.863    22856302   15153728226\n",
       "1              Albania      Europe           74.200     3071856   12886435920\n",
       "2              Algeria      Africa           68.963    30533827  155661450046\n",
       "3               Angola      Africa           45.234    13926373   34063908358\n",
       "4  Antigua and Barbuda  N. America           73.544       77656     989182128"
      ]
     },
     "execution_count": 88,
     "metadata": {},
     "output_type": "execute_result"
    }
   ],
   "source": [
    "df.head().tail()"
   ]
  },
  {
   "cell_type": "code",
   "execution_count": 89,
   "id": "aaa5de58-6d7a-4bd6-ac24-daf147351acc",
   "metadata": {},
   "outputs": [
    {
     "ename": "KeyError",
     "evalue": "\"None of [Index(['Asia', 'Europe', 'Africa', 'Africa', 'N. America', 'S. America',\\n       'Europe', 'Oceania', 'Europe', 'Europe',\\n       ...\\n       'N. America', 'S. America', 'Asia', 'Oceania', 'S. America', 'Asia',\\n       'Asia', 'Asia', 'Africa', 'Africa'],\\n      dtype='object', length=188)] are in the [columns]\"",
     "output_type": "error",
     "traceback": [
      "\u001b[0;31m---------------------------------------------------------------------------\u001b[0m",
      "\u001b[0;31mKeyError\u001b[0m                                  Traceback (most recent call last)",
      "Cell \u001b[0;32mIn[89], line 2\u001b[0m\n\u001b[1;32m      1\u001b[0m \u001b[38;5;66;03m#Filter for everything that is in Asia\u001b[39;00m\n\u001b[0;32m----> 2\u001b[0m \u001b[43mdf\u001b[49m\u001b[43m[\u001b[49m\u001b[43mdf\u001b[49m\u001b[43m[\u001b[49m\u001b[38;5;124;43m'\u001b[39;49m\u001b[38;5;124;43mcontinent\u001b[39;49m\u001b[38;5;124;43m'\u001b[39;49m\u001b[43m]\u001b[49m\u001b[43m]\u001b[49m \u001b[38;5;241m==\u001b[39m \u001b[38;5;124m'\u001b[39m\u001b[38;5;124mAsia\u001b[39m\u001b[38;5;124m'\u001b[39m\n",
      "File \u001b[0;32m~/.pyenv/versions/3.11.8/lib/python3.11/site-packages/pandas/core/frame.py:4108\u001b[0m, in \u001b[0;36mDataFrame.__getitem__\u001b[0;34m(self, key)\u001b[0m\n\u001b[1;32m   4106\u001b[0m     \u001b[38;5;28;01mif\u001b[39;00m is_iterator(key):\n\u001b[1;32m   4107\u001b[0m         key \u001b[38;5;241m=\u001b[39m \u001b[38;5;28mlist\u001b[39m(key)\n\u001b[0;32m-> 4108\u001b[0m     indexer \u001b[38;5;241m=\u001b[39m \u001b[38;5;28;43mself\u001b[39;49m\u001b[38;5;241;43m.\u001b[39;49m\u001b[43mcolumns\u001b[49m\u001b[38;5;241;43m.\u001b[39;49m\u001b[43m_get_indexer_strict\u001b[49m\u001b[43m(\u001b[49m\u001b[43mkey\u001b[49m\u001b[43m,\u001b[49m\u001b[43m \u001b[49m\u001b[38;5;124;43m\"\u001b[39;49m\u001b[38;5;124;43mcolumns\u001b[39;49m\u001b[38;5;124;43m\"\u001b[39;49m\u001b[43m)\u001b[49m[\u001b[38;5;241m1\u001b[39m]\n\u001b[1;32m   4110\u001b[0m \u001b[38;5;66;03m# take() does not accept boolean indexers\u001b[39;00m\n\u001b[1;32m   4111\u001b[0m \u001b[38;5;28;01mif\u001b[39;00m \u001b[38;5;28mgetattr\u001b[39m(indexer, \u001b[38;5;124m\"\u001b[39m\u001b[38;5;124mdtype\u001b[39m\u001b[38;5;124m\"\u001b[39m, \u001b[38;5;28;01mNone\u001b[39;00m) \u001b[38;5;241m==\u001b[39m \u001b[38;5;28mbool\u001b[39m:\n",
      "File \u001b[0;32m~/.pyenv/versions/3.11.8/lib/python3.11/site-packages/pandas/core/indexes/base.py:6200\u001b[0m, in \u001b[0;36mIndex._get_indexer_strict\u001b[0;34m(self, key, axis_name)\u001b[0m\n\u001b[1;32m   6197\u001b[0m \u001b[38;5;28;01melse\u001b[39;00m:\n\u001b[1;32m   6198\u001b[0m     keyarr, indexer, new_indexer \u001b[38;5;241m=\u001b[39m \u001b[38;5;28mself\u001b[39m\u001b[38;5;241m.\u001b[39m_reindex_non_unique(keyarr)\n\u001b[0;32m-> 6200\u001b[0m \u001b[38;5;28;43mself\u001b[39;49m\u001b[38;5;241;43m.\u001b[39;49m\u001b[43m_raise_if_missing\u001b[49m\u001b[43m(\u001b[49m\u001b[43mkeyarr\u001b[49m\u001b[43m,\u001b[49m\u001b[43m \u001b[49m\u001b[43mindexer\u001b[49m\u001b[43m,\u001b[49m\u001b[43m \u001b[49m\u001b[43maxis_name\u001b[49m\u001b[43m)\u001b[49m\n\u001b[1;32m   6202\u001b[0m keyarr \u001b[38;5;241m=\u001b[39m \u001b[38;5;28mself\u001b[39m\u001b[38;5;241m.\u001b[39mtake(indexer)\n\u001b[1;32m   6203\u001b[0m \u001b[38;5;28;01mif\u001b[39;00m \u001b[38;5;28misinstance\u001b[39m(key, Index):\n\u001b[1;32m   6204\u001b[0m     \u001b[38;5;66;03m# GH 42790 - Preserve name from an Index\u001b[39;00m\n",
      "File \u001b[0;32m~/.pyenv/versions/3.11.8/lib/python3.11/site-packages/pandas/core/indexes/base.py:6249\u001b[0m, in \u001b[0;36mIndex._raise_if_missing\u001b[0;34m(self, key, indexer, axis_name)\u001b[0m\n\u001b[1;32m   6247\u001b[0m \u001b[38;5;28;01mif\u001b[39;00m nmissing:\n\u001b[1;32m   6248\u001b[0m     \u001b[38;5;28;01mif\u001b[39;00m nmissing \u001b[38;5;241m==\u001b[39m \u001b[38;5;28mlen\u001b[39m(indexer):\n\u001b[0;32m-> 6249\u001b[0m         \u001b[38;5;28;01mraise\u001b[39;00m \u001b[38;5;167;01mKeyError\u001b[39;00m(\u001b[38;5;124mf\u001b[39m\u001b[38;5;124m\"\u001b[39m\u001b[38;5;124mNone of [\u001b[39m\u001b[38;5;132;01m{\u001b[39;00mkey\u001b[38;5;132;01m}\u001b[39;00m\u001b[38;5;124m] are in the [\u001b[39m\u001b[38;5;132;01m{\u001b[39;00maxis_name\u001b[38;5;132;01m}\u001b[39;00m\u001b[38;5;124m]\u001b[39m\u001b[38;5;124m\"\u001b[39m)\n\u001b[1;32m   6251\u001b[0m     not_found \u001b[38;5;241m=\u001b[39m \u001b[38;5;28mlist\u001b[39m(ensure_index(key)[missing_mask\u001b[38;5;241m.\u001b[39mnonzero()[\u001b[38;5;241m0\u001b[39m]]\u001b[38;5;241m.\u001b[39munique())\n\u001b[1;32m   6252\u001b[0m     \u001b[38;5;28;01mraise\u001b[39;00m \u001b[38;5;167;01mKeyError\u001b[39;00m(\u001b[38;5;124mf\u001b[39m\u001b[38;5;124m\"\u001b[39m\u001b[38;5;132;01m{\u001b[39;00mnot_found\u001b[38;5;132;01m}\u001b[39;00m\u001b[38;5;124m not in index\u001b[39m\u001b[38;5;124m\"\u001b[39m)\n",
      "\u001b[0;31mKeyError\u001b[0m: \"None of [Index(['Asia', 'Europe', 'Africa', 'Africa', 'N. America', 'S. America',\\n       'Europe', 'Oceania', 'Europe', 'Europe',\\n       ...\\n       'N. America', 'S. America', 'Asia', 'Oceania', 'S. America', 'Asia',\\n       'Asia', 'Asia', 'Africa', 'Africa'],\\n      dtype='object', length=188)] are in the [columns]\""
     ]
    }
   ],
   "source": [
    "#Filter for everything that is in Asia\n",
    "df[df['continent']] == 'Asia'"
   ]
  },
  {
   "cell_type": "code",
   "execution_count": 90,
   "id": "aa15e265-cfb8-49e4-9401-6a2aa5952b58",
   "metadata": {},
   "outputs": [
    {
     "ename": "SyntaxError",
     "evalue": "closing parenthesis ']' does not match opening parenthesis '(' (3275736198.py, line 2)",
     "output_type": "error",
     "traceback": [
      "\u001b[0;36m  Cell \u001b[0;32mIn[90], line 2\u001b[0;36m\u001b[0m\n\u001b[0;31m    (df[(df'life expectancy'] > 75) & (df[continent\u001b[0m\n\u001b[0m                            ^\u001b[0m\n\u001b[0;31mSyntaxError\u001b[0m\u001b[0;31m:\u001b[0m closing parenthesis ']' does not match opening parenthesis '('\n"
     ]
    }
   ],
   "source": [
    "#Every country in Asia with a life expectancy over 75\n",
    "(df[(df'life expectancy'] > 75) & (df[continent\n",
    "df \n",
    "                                "
   ]
  },
  {
   "cell_type": "code",
   "execution_count": 91,
   "id": "cf1122af-95ff-4d89-8f1b-d6975111ce07",
   "metadata": {},
   "outputs": [
    {
     "data": {
      "text/html": [
       "<div>\n",
       "<style scoped>\n",
       "    .dataframe tbody tr th:only-of-type {\n",
       "        vertical-align: middle;\n",
       "    }\n",
       "\n",
       "    .dataframe tbody tr th {\n",
       "        vertical-align: top;\n",
       "    }\n",
       "\n",
       "    .dataframe thead th {\n",
       "        text-align: right;\n",
       "    }\n",
       "</style>\n",
       "<table border=\"1\" class=\"dataframe\">\n",
       "  <thead>\n",
       "    <tr style=\"text-align: right;\">\n",
       "      <th></th>\n",
       "      <th>country</th>\n",
       "      <th>continent</th>\n",
       "      <th>life_expectancy</th>\n",
       "      <th>population</th>\n",
       "      <th>gdp</th>\n",
       "    </tr>\n",
       "  </thead>\n",
       "  <tbody>\n",
       "    <tr>\n",
       "      <th>110</th>\n",
       "      <td>Mexico</td>\n",
       "      <td>N. America</td>\n",
       "      <td>74.38</td>\n",
       "      <td>99959594</td>\n",
       "      <td>1088959817036</td>\n",
       "    </tr>\n",
       "  </tbody>\n",
       "</table>\n",
       "</div>"
      ],
      "text/plain": [
       "    country   continent  life_expectancy  population            gdp\n",
       "110  Mexico  N. America            74.38    99959594  1088959817036"
      ]
     },
     "execution_count": 91,
     "metadata": {},
     "output_type": "execute_result"
    }
   ],
   "source": [
    "#If you want just one country:\n",
    "df[df['country']=='Mexico']"
   ]
  },
  {
   "cell_type": "code",
   "execution_count": 92,
   "id": "917cf2d8-fc81-4510-8d17-0a2e813fdbe4",
   "metadata": {},
   "outputs": [
    {
     "ename": "KeyError",
     "evalue": "'life expectancy'",
     "output_type": "error",
     "traceback": [
      "\u001b[0;31m---------------------------------------------------------------------------\u001b[0m",
      "\u001b[0;31mKeyError\u001b[0m                                  Traceback (most recent call last)",
      "File \u001b[0;32m~/.pyenv/versions/3.11.8/lib/python3.11/site-packages/pandas/core/indexes/base.py:3805\u001b[0m, in \u001b[0;36mIndex.get_loc\u001b[0;34m(self, key)\u001b[0m\n\u001b[1;32m   3804\u001b[0m \u001b[38;5;28;01mtry\u001b[39;00m:\n\u001b[0;32m-> 3805\u001b[0m     \u001b[38;5;28;01mreturn\u001b[39;00m \u001b[38;5;28;43mself\u001b[39;49m\u001b[38;5;241;43m.\u001b[39;49m\u001b[43m_engine\u001b[49m\u001b[38;5;241;43m.\u001b[39;49m\u001b[43mget_loc\u001b[49m\u001b[43m(\u001b[49m\u001b[43mcasted_key\u001b[49m\u001b[43m)\u001b[49m\n\u001b[1;32m   3806\u001b[0m \u001b[38;5;28;01mexcept\u001b[39;00m \u001b[38;5;167;01mKeyError\u001b[39;00m \u001b[38;5;28;01mas\u001b[39;00m err:\n",
      "File \u001b[0;32mindex.pyx:167\u001b[0m, in \u001b[0;36mpandas._libs.index.IndexEngine.get_loc\u001b[0;34m()\u001b[0m\n",
      "File \u001b[0;32mindex.pyx:196\u001b[0m, in \u001b[0;36mpandas._libs.index.IndexEngine.get_loc\u001b[0;34m()\u001b[0m\n",
      "File \u001b[0;32mpandas/_libs/hashtable_class_helper.pxi:7081\u001b[0m, in \u001b[0;36mpandas._libs.hashtable.PyObjectHashTable.get_item\u001b[0;34m()\u001b[0m\n",
      "File \u001b[0;32mpandas/_libs/hashtable_class_helper.pxi:7089\u001b[0m, in \u001b[0;36mpandas._libs.hashtable.PyObjectHashTable.get_item\u001b[0;34m()\u001b[0m\n",
      "\u001b[0;31mKeyError\u001b[0m: 'life expectancy'",
      "\nThe above exception was the direct cause of the following exception:\n",
      "\u001b[0;31mKeyError\u001b[0m                                  Traceback (most recent call last)",
      "Cell \u001b[0;32mIn[92], line 1\u001b[0m\n\u001b[0;32m----> 1\u001b[0m \u001b[43mdf\u001b[49m\u001b[43m[\u001b[49m\u001b[38;5;124;43m'\u001b[39;49m\u001b[38;5;124;43mlife expectancy\u001b[39;49m\u001b[38;5;124;43m'\u001b[39;49m\u001b[43m]\u001b[49m\u001b[38;5;241m.\u001b[39mdescribe()\n",
      "File \u001b[0;32m~/.pyenv/versions/3.11.8/lib/python3.11/site-packages/pandas/core/frame.py:4102\u001b[0m, in \u001b[0;36mDataFrame.__getitem__\u001b[0;34m(self, key)\u001b[0m\n\u001b[1;32m   4100\u001b[0m \u001b[38;5;28;01mif\u001b[39;00m \u001b[38;5;28mself\u001b[39m\u001b[38;5;241m.\u001b[39mcolumns\u001b[38;5;241m.\u001b[39mnlevels \u001b[38;5;241m>\u001b[39m \u001b[38;5;241m1\u001b[39m:\n\u001b[1;32m   4101\u001b[0m     \u001b[38;5;28;01mreturn\u001b[39;00m \u001b[38;5;28mself\u001b[39m\u001b[38;5;241m.\u001b[39m_getitem_multilevel(key)\n\u001b[0;32m-> 4102\u001b[0m indexer \u001b[38;5;241m=\u001b[39m \u001b[38;5;28;43mself\u001b[39;49m\u001b[38;5;241;43m.\u001b[39;49m\u001b[43mcolumns\u001b[49m\u001b[38;5;241;43m.\u001b[39;49m\u001b[43mget_loc\u001b[49m\u001b[43m(\u001b[49m\u001b[43mkey\u001b[49m\u001b[43m)\u001b[49m\n\u001b[1;32m   4103\u001b[0m \u001b[38;5;28;01mif\u001b[39;00m is_integer(indexer):\n\u001b[1;32m   4104\u001b[0m     indexer \u001b[38;5;241m=\u001b[39m [indexer]\n",
      "File \u001b[0;32m~/.pyenv/versions/3.11.8/lib/python3.11/site-packages/pandas/core/indexes/base.py:3812\u001b[0m, in \u001b[0;36mIndex.get_loc\u001b[0;34m(self, key)\u001b[0m\n\u001b[1;32m   3807\u001b[0m     \u001b[38;5;28;01mif\u001b[39;00m \u001b[38;5;28misinstance\u001b[39m(casted_key, \u001b[38;5;28mslice\u001b[39m) \u001b[38;5;129;01mor\u001b[39;00m (\n\u001b[1;32m   3808\u001b[0m         \u001b[38;5;28misinstance\u001b[39m(casted_key, abc\u001b[38;5;241m.\u001b[39mIterable)\n\u001b[1;32m   3809\u001b[0m         \u001b[38;5;129;01mand\u001b[39;00m \u001b[38;5;28many\u001b[39m(\u001b[38;5;28misinstance\u001b[39m(x, \u001b[38;5;28mslice\u001b[39m) \u001b[38;5;28;01mfor\u001b[39;00m x \u001b[38;5;129;01min\u001b[39;00m casted_key)\n\u001b[1;32m   3810\u001b[0m     ):\n\u001b[1;32m   3811\u001b[0m         \u001b[38;5;28;01mraise\u001b[39;00m InvalidIndexError(key)\n\u001b[0;32m-> 3812\u001b[0m     \u001b[38;5;28;01mraise\u001b[39;00m \u001b[38;5;167;01mKeyError\u001b[39;00m(key) \u001b[38;5;28;01mfrom\u001b[39;00m \u001b[38;5;21;01merr\u001b[39;00m\n\u001b[1;32m   3813\u001b[0m \u001b[38;5;28;01mexcept\u001b[39;00m \u001b[38;5;167;01mTypeError\u001b[39;00m:\n\u001b[1;32m   3814\u001b[0m     \u001b[38;5;66;03m# If we have a listlike key, _check_indexing_error will raise\u001b[39;00m\n\u001b[1;32m   3815\u001b[0m     \u001b[38;5;66;03m#  InvalidIndexError. Otherwise we fall through and re-raise\u001b[39;00m\n\u001b[1;32m   3816\u001b[0m     \u001b[38;5;66;03m#  the TypeError.\u001b[39;00m\n\u001b[1;32m   3817\u001b[0m     \u001b[38;5;28mself\u001b[39m\u001b[38;5;241m.\u001b[39m_check_indexing_error(key)\n",
      "\u001b[0;31mKeyError\u001b[0m: 'life expectancy'"
     ]
    }
   ],
   "source": [
    "df['life expectancy'].describe()"
   ]
  },
  {
   "cell_type": "code",
   "execution_count": null,
   "id": "f2cf98d3-aa11-4a13-844b-823ce78679f7",
   "metadata": {},
   "outputs": [],
   "source": []
  },
  {
   "cell_type": "code",
   "execution_count": 93,
   "id": "781f9e55-3d66-4479-9114-b414460fe334",
   "metadata": {},
   "outputs": [
    {
     "data": {
      "text/html": [
       "<div>\n",
       "<style scoped>\n",
       "    .dataframe tbody tr th:only-of-type {\n",
       "        vertical-align: middle;\n",
       "    }\n",
       "\n",
       "    .dataframe tbody tr th {\n",
       "        vertical-align: top;\n",
       "    }\n",
       "\n",
       "    .dataframe thead th {\n",
       "        text-align: right;\n",
       "    }\n",
       "</style>\n",
       "<table border=\"1\" class=\"dataframe\">\n",
       "  <thead>\n",
       "    <tr style=\"text-align: right;\">\n",
       "      <th></th>\n",
       "      <th>country</th>\n",
       "      <th>continent</th>\n",
       "      <th>life_expectancy</th>\n",
       "      <th>population</th>\n",
       "      <th>gdp</th>\n",
       "    </tr>\n",
       "  </thead>\n",
       "  <tbody>\n",
       "    <tr>\n",
       "      <th>0</th>\n",
       "      <td>Afghanistan</td>\n",
       "      <td>Asia</td>\n",
       "      <td>54.863</td>\n",
       "      <td>22856302</td>\n",
       "      <td>15153728226</td>\n",
       "    </tr>\n",
       "    <tr>\n",
       "      <th>1</th>\n",
       "      <td>Albania</td>\n",
       "      <td>Europe</td>\n",
       "      <td>74.200</td>\n",
       "      <td>3071856</td>\n",
       "      <td>12886435920</td>\n",
       "    </tr>\n",
       "  </tbody>\n",
       "</table>\n",
       "</div>"
      ],
      "text/plain": [
       "       country continent  life_expectancy  population          gdp\n",
       "0  Afghanistan      Asia           54.863    22856302  15153728226\n",
       "1      Albania    Europe           74.200     3071856  12886435920"
      ]
     },
     "execution_count": 93,
     "metadata": {},
     "output_type": "execute_result"
    }
   ],
   "source": [
    "df.head(2)"
   ]
  },
  {
   "cell_type": "code",
   "execution_count": 94,
   "id": "0df86585-9cb0-4df9-9b5b-642e819fa57e",
   "metadata": {},
   "outputs": [
    {
     "data": {
      "text/html": [
       "<div>\n",
       "<style scoped>\n",
       "    .dataframe tbody tr th:only-of-type {\n",
       "        vertical-align: middle;\n",
       "    }\n",
       "\n",
       "    .dataframe tbody tr th {\n",
       "        vertical-align: top;\n",
       "    }\n",
       "\n",
       "    .dataframe thead th {\n",
       "        text-align: right;\n",
       "    }\n",
       "</style>\n",
       "<table border=\"1\" class=\"dataframe\">\n",
       "  <thead>\n",
       "    <tr style=\"text-align: right;\">\n",
       "      <th></th>\n",
       "      <th>life_expectancy</th>\n",
       "      <th>gdp</th>\n",
       "    </tr>\n",
       "  </thead>\n",
       "  <tbody>\n",
       "    <tr>\n",
       "      <th>life_expectancy</th>\n",
       "      <td>1.000000</td>\n",
       "      <td>0.209858</td>\n",
       "    </tr>\n",
       "    <tr>\n",
       "      <th>gdp</th>\n",
       "      <td>0.209858</td>\n",
       "      <td>1.000000</td>\n",
       "    </tr>\n",
       "  </tbody>\n",
       "</table>\n",
       "</div>"
      ],
      "text/plain": [
       "                 life_expectancy       gdp\n",
       "life_expectancy         1.000000  0.209858\n",
       "gdp                     0.209858  1.000000"
      ]
     },
     "execution_count": 94,
     "metadata": {},
     "output_type": "execute_result"
    }
   ],
   "source": [
    "df[['life_expectancy', 'gdp']].corr()"
   ]
  },
  {
   "cell_type": "code",
   "execution_count": 96,
   "id": "111be1c3-e170-41e5-98b1-008bc98ae061",
   "metadata": {},
   "outputs": [
    {
     "data": {
      "text/plain": [
       "0        663.0\n",
       "1       4195.0\n",
       "2       5098.0\n",
       "3       2446.0\n",
       "4      12738.0\n",
       "        ...   \n",
       "183     1577.0\n",
       "184     7586.0\n",
       "185     2217.0\n",
       "186     1035.0\n",
       "187      745.0\n",
       "Length: 188, dtype: float64"
      ]
     },
     "execution_count": 96,
     "metadata": {},
     "output_type": "execute_result"
    }
   ],
   "source": [
    "#calculate the per capita gdp\n",
    "#gdp/population\n",
    "df['gdp']/df['population']"
   ]
  },
  {
   "cell_type": "code",
   "execution_count": 97,
   "id": "7cb6d7e1-e47a-460f-9c1f-c1b2baabae7e",
   "metadata": {},
   "outputs": [
    {
     "data": {
      "text/html": [
       "<div>\n",
       "<style scoped>\n",
       "    .dataframe tbody tr th:only-of-type {\n",
       "        vertical-align: middle;\n",
       "    }\n",
       "\n",
       "    .dataframe tbody tr th {\n",
       "        vertical-align: top;\n",
       "    }\n",
       "\n",
       "    .dataframe thead th {\n",
       "        text-align: right;\n",
       "    }\n",
       "</style>\n",
       "<table border=\"1\" class=\"dataframe\">\n",
       "  <thead>\n",
       "    <tr style=\"text-align: right;\">\n",
       "      <th></th>\n",
       "      <th>country</th>\n",
       "      <th>continent</th>\n",
       "      <th>life_expectancy</th>\n",
       "      <th>population</th>\n",
       "      <th>gdp</th>\n",
       "      <th>gdp_per_capita</th>\n",
       "    </tr>\n",
       "  </thead>\n",
       "  <tbody>\n",
       "    <tr>\n",
       "      <th>0</th>\n",
       "      <td>Afghanistan</td>\n",
       "      <td>Asia</td>\n",
       "      <td>54.863</td>\n",
       "      <td>22856302</td>\n",
       "      <td>15153728226</td>\n",
       "      <td>663.0</td>\n",
       "    </tr>\n",
       "    <tr>\n",
       "      <th>1</th>\n",
       "      <td>Albania</td>\n",
       "      <td>Europe</td>\n",
       "      <td>74.200</td>\n",
       "      <td>3071856</td>\n",
       "      <td>12886435920</td>\n",
       "      <td>4195.0</td>\n",
       "    </tr>\n",
       "  </tbody>\n",
       "</table>\n",
       "</div>"
      ],
      "text/plain": [
       "       country continent  life_expectancy  population          gdp  \\\n",
       "0  Afghanistan      Asia           54.863    22856302  15153728226   \n",
       "1      Albania    Europe           74.200     3071856  12886435920   \n",
       "\n",
       "   gdp_per_capita  \n",
       "0           663.0  \n",
       "1          4195.0  "
      ]
     },
     "execution_count": 97,
     "metadata": {},
     "output_type": "execute_result"
    }
   ],
   "source": [
    "df['gdp_per_capita'] = df['gdp'] / df['population']\n",
    "df.head(2)"
   ]
  },
  {
   "cell_type": "code",
   "execution_count": 99,
   "id": "6dcedae0-d678-4212-8721-fd4937231e8f",
   "metadata": {},
   "outputs": [
    {
     "data": {
      "text/plain": [
       "continent\n",
       "Africa        52.1025\n",
       "Asia          70.4275\n",
       "Europe        75.5800\n",
       "N. America    70.5765\n",
       "Oceania       67.4955\n",
       "S. America    70.7660\n",
       "Name: life_expectancy, dtype: float64"
      ]
     },
     "execution_count": 99,
     "metadata": {},
     "output_type": "execute_result"
    }
   ],
   "source": [
    "#Step 1: df \n",
    "#Step 2: filters\n",
    "#Step 3: grouby\n",
    "#Step 4: column(s)\n",
    "#Step 5: the math\n",
    "\n",
    "\n",
    "df.groupby('continent')['life_expectancy'].median()"
   ]
  },
  {
   "cell_type": "code",
   "execution_count": 101,
   "id": "5b0ee60c-b2ef-4602-9eaf-b5ccd9db92b8",
   "metadata": {},
   "outputs": [],
   "source": [
    "south_america_df = df[df['continent'] == 'S. America']\n",
    "#setting the value"
   ]
  },
  {
   "cell_type": "code",
   "execution_count": null,
   "id": "358eaa63-48f5-4b80-93cc-d3a66d8d9ce9",
   "metadata": {},
   "outputs": [],
   "source": []
  },
  {
   "cell_type": "code",
   "execution_count": 102,
   "id": "31c36a2c-b906-48d3-b299-72a1adcee95d",
   "metadata": {},
   "outputs": [
    {
     "name": "stderr",
     "output_type": "stream",
     "text": [
      "/var/folders/b8/pqq040b90d97lstdv_x2w7_r0000gn/T/ipykernel_27094/756261850.py:1: SettingWithCopyWarning: \n",
      "A value is trying to be set on a copy of a slice from a DataFrame.\n",
      "Try using .loc[row_indexer,col_indexer] = value instead\n",
      "\n",
      "See the caveats in the documentation: https://pandas.pydata.org/pandas-docs/stable/user_guide/indexing.html#returning-a-view-versus-a-copy\n",
      "  south_america_df['population'] = 0\n"
     ]
    }
   ],
   "source": [
    "south_america_df['population'] = 0\n",
    "#We're setting the population in every South American country to 0. but only temporarily? "
   ]
  },
  {
   "cell_type": "code",
   "execution_count": 103,
   "id": "af60eb33-4210-4037-aa17-29ba7d2c50b2",
   "metadata": {},
   "outputs": [
    {
     "data": {
      "text/plain": [
       "continent\n",
       "Africa        54\n",
       "Asia          48\n",
       "Europe        42\n",
       "N. America    22\n",
       "S. America    12\n",
       "Oceania       10\n",
       "Name: count, dtype: int64"
      ]
     },
     "execution_count": 103,
     "metadata": {},
     "output_type": "execute_result"
    }
   ],
   "source": [
    "df['continent'].value_counts()\n",
    "#counting the number of continents in the continet column"
   ]
  },
  {
   "cell_type": "code",
   "execution_count": 104,
   "id": "dcda4084-bb0e-4b8a-87a6-e63fec79f102",
   "metadata": {},
   "outputs": [],
   "source": [
    "#Reading stuff from the internet"
   ]
  },
  {
   "cell_type": "code",
   "execution_count": 4,
   "id": "2870e12b-72cf-44fb-b058-c20700c94e2a",
   "metadata": {
    "scrolled": true
   },
   "outputs": [
    {
     "data": {
      "text/plain": [
       "[     P            Team  GP   W   D   L   F   A  GD  Pts  \\\n",
       " 0    1     Real Madrid  38  29   8   1  87  26  61   95   \n",
       " 1    2       Barcelona  38  26   7   5  79  44  35   85   \n",
       " 2    3          Girona  38  25   6   7  85  46  39   81   \n",
       " 3    4        Atlético  38  24   4  10  70  43  27   76   \n",
       " 4    5        A Bilbao  38  19  11   8  61  37  24   68   \n",
       " 5    6   Real Sociedad  38  16  12  10  51  39  12   60   \n",
       " 6    7      Real Betis  38  14  15   9  48  45   3   57   \n",
       " 7    8      Villarreal  38  14  11  13  65  65   0   53   \n",
       " 8    9        Valencia  38  13  10  15  40  45  -5   49   \n",
       " 9   10          Alaves  38  12  10  16  36  46 -10   46   \n",
       " 10  11         Osasuna  38  12   9  17  45  56 -11   45   \n",
       " 11  12          Getafe  38  10  13  15  42  54 -12   43   \n",
       " 12  13      Celta Vigo  38  10  11  17  46  57 -11   41   \n",
       " 13  14         Sevilla  38  10  11  17  48  54  -6   41   \n",
       " 14  15        Mallorca  38   8  16  14  33  44 -11   40   \n",
       " 15  16      Las Palmas  38  10  10  18  33  47 -14   40   \n",
       " 16  17  Rayo Vallecano  38   8  14  16  29  48 -19   38   \n",
       " 17  18           Cadiz  38   6  15  17  26  55 -29   33   \n",
       " 18  19         Almeria  38   3  12  23  43  75 -32   21   \n",
       " 19  20         Granada  38   4   9  25  38  79 -41   21   \n",
       " \n",
       "                                                  Form  \n",
       " 0   Won 3-0 against Cadiz  Won 4-0 against Granada...  \n",
       " 1   Lost 2-4 to Girona  Won 2-0 against Real Socie...  \n",
       " 2   Won 4-2 against Barcelona  Drew 2-2 with Alave...  \n",
       " 3   Won 1-0 against Mallorca  Won 1-0 against Celt...  \n",
       " 4   Won 2-0 against Getafe  Drew 2-2 with Osasuna ...  \n",
       " 5   Won 2-0 against Las Palmas  Lost 0-2 to Barcel...  \n",
       " 6   Won 2-0 against Osasuna  Won 3-2 against Almer...  \n",
       " 7   Lost 2-3 to Celta Vigo  Won 3-2 against Sevill...  \n",
       " 8   Lost 0-1 to Alaves  Drew 0-0 with Rayo Valleca...  \n",
       " 9   Won 1-0 against Valencia  Drew 2-2 with Girona...  \n",
       " 10  Lost 0-2 to Real Betis  Drew 2-2 with A Bilbao...  \n",
       " 11  Lost 0-2 to A Bilbao  Lost 0-1 to Cadiz  Lost ...  \n",
       " 12  Won 3-2 against Villarreal  Lost 0-1 to Atléti...  \n",
       " 13  Won 3-0 against Granada  Lost 2-3 to Villarrea...  \n",
       " 14  Lost 0-1 to Atlético  Won 1-0 against Las Palm...  \n",
       " 15  Lost 0-2 to Real Sociedad  Lost 0-1 to Mallorc...  \n",
       " 16  Lost 0-1 to Almeria  Drew 0-0 with Valencia  W...  \n",
       " 17  Lost 0-3 to Real Madrid  Won 1-0 against Getaf...  \n",
       " 18  Won 1-0 against Rayo Vallecano  Lost 2-3 to Re...  \n",
       " 19  Lost 0-3 to Sevilla  Lost 0-4 to Real Madrid  ...  ]"
      ]
     },
     "execution_count": 4,
     "metadata": {},
     "output_type": "execute_result"
    }
   ],
   "source": [
    "url = \"https://www.theguardian.com/football/laligafootball/table\"\n",
    "pd.read_html(url)"
   ]
  },
  {
   "cell_type": "code",
   "execution_count": 106,
   "id": "b92e4934-e31c-4ad6-864a-f1f6dc4d9303",
   "metadata": {},
   "outputs": [
    {
     "name": "stdout",
     "output_type": "stream",
     "text": [
      "Collecting lxml\n",
      "  Downloading lxml-5.2.2-cp311-cp311-macosx_10_9_universal2.whl.metadata (3.4 kB)\n",
      "Downloading lxml-5.2.2-cp311-cp311-macosx_10_9_universal2.whl (8.1 MB)\n",
      "\u001b[2K   \u001b[90m━━━━━━━━━━━━━━━━━━━━━━━━━━━━━━━━━━━━━━━━\u001b[0m \u001b[32m8.1/8.1 MB\u001b[0m \u001b[31m12.9 MB/s\u001b[0m eta \u001b[36m0:00:00\u001b[0m00:01\u001b[0m00:01\u001b[0m\n",
      "\u001b[?25hInstalling collected packages: lxml\n",
      "Successfully installed lxml-5.2.2\n"
     ]
    }
   ],
   "source": [
    "!pip install lxml"
   ]
  },
  {
   "cell_type": "code",
   "execution_count": null,
   "id": "34684f1b-8437-45cc-99f3-55e5fd0e7c80",
   "metadata": {},
   "outputs": [],
   "source": [
    "#If you get ModuleNotFoundError lsml\n",
    "#you have to install lmxl, so %pip install lxml"
   ]
  },
  {
   "cell_type": "code",
   "execution_count": 3,
   "id": "ca0776ff-06c1-4aa9-8df9-b87ba144e2ca",
   "metadata": {},
   "outputs": [
    {
     "data": {
      "text/plain": [
       "1"
      ]
     },
     "execution_count": 3,
     "metadata": {},
     "output_type": "execute_result"
    }
   ],
   "source": [
    "import pandas as pd\n",
    "\n",
    "url = \"https://www.theguardian.com/football/laligafootball/table\"\n",
    "tables = pd.read_html(url)\n",
    "len(tables)"
   ]
  },
  {
   "cell_type": "code",
   "execution_count": 5,
   "id": "47176943-0545-428a-b02b-6866119b1b1f",
   "metadata": {},
   "outputs": [
    {
     "data": {
      "text/html": [
       "<div>\n",
       "<style scoped>\n",
       "    .dataframe tbody tr th:only-of-type {\n",
       "        vertical-align: middle;\n",
       "    }\n",
       "\n",
       "    .dataframe tbody tr th {\n",
       "        vertical-align: top;\n",
       "    }\n",
       "\n",
       "    .dataframe thead th {\n",
       "        text-align: right;\n",
       "    }\n",
       "</style>\n",
       "<table border=\"1\" class=\"dataframe\">\n",
       "  <thead>\n",
       "    <tr style=\"text-align: right;\">\n",
       "      <th></th>\n",
       "      <th>P</th>\n",
       "      <th>Team</th>\n",
       "      <th>GP</th>\n",
       "      <th>W</th>\n",
       "      <th>D</th>\n",
       "      <th>L</th>\n",
       "      <th>F</th>\n",
       "      <th>A</th>\n",
       "      <th>GD</th>\n",
       "      <th>Pts</th>\n",
       "      <th>Form</th>\n",
       "    </tr>\n",
       "  </thead>\n",
       "  <tbody>\n",
       "    <tr>\n",
       "      <th>0</th>\n",
       "      <td>1</td>\n",
       "      <td>Real Madrid</td>\n",
       "      <td>38</td>\n",
       "      <td>29</td>\n",
       "      <td>8</td>\n",
       "      <td>1</td>\n",
       "      <td>87</td>\n",
       "      <td>26</td>\n",
       "      <td>61</td>\n",
       "      <td>95</td>\n",
       "      <td>Won 3-0 against Cadiz  Won 4-0 against Granada...</td>\n",
       "    </tr>\n",
       "    <tr>\n",
       "      <th>1</th>\n",
       "      <td>2</td>\n",
       "      <td>Barcelona</td>\n",
       "      <td>38</td>\n",
       "      <td>26</td>\n",
       "      <td>7</td>\n",
       "      <td>5</td>\n",
       "      <td>79</td>\n",
       "      <td>44</td>\n",
       "      <td>35</td>\n",
       "      <td>85</td>\n",
       "      <td>Lost 2-4 to Girona  Won 2-0 against Real Socie...</td>\n",
       "    </tr>\n",
       "    <tr>\n",
       "      <th>2</th>\n",
       "      <td>3</td>\n",
       "      <td>Girona</td>\n",
       "      <td>38</td>\n",
       "      <td>25</td>\n",
       "      <td>6</td>\n",
       "      <td>7</td>\n",
       "      <td>85</td>\n",
       "      <td>46</td>\n",
       "      <td>39</td>\n",
       "      <td>81</td>\n",
       "      <td>Won 4-2 against Barcelona  Drew 2-2 with Alave...</td>\n",
       "    </tr>\n",
       "    <tr>\n",
       "      <th>3</th>\n",
       "      <td>4</td>\n",
       "      <td>Atlético</td>\n",
       "      <td>38</td>\n",
       "      <td>24</td>\n",
       "      <td>4</td>\n",
       "      <td>10</td>\n",
       "      <td>70</td>\n",
       "      <td>43</td>\n",
       "      <td>27</td>\n",
       "      <td>76</td>\n",
       "      <td>Won 1-0 against Mallorca  Won 1-0 against Celt...</td>\n",
       "    </tr>\n",
       "    <tr>\n",
       "      <th>4</th>\n",
       "      <td>5</td>\n",
       "      <td>A Bilbao</td>\n",
       "      <td>38</td>\n",
       "      <td>19</td>\n",
       "      <td>11</td>\n",
       "      <td>8</td>\n",
       "      <td>61</td>\n",
       "      <td>37</td>\n",
       "      <td>24</td>\n",
       "      <td>68</td>\n",
       "      <td>Won 2-0 against Getafe  Drew 2-2 with Osasuna ...</td>\n",
       "    </tr>\n",
       "  </tbody>\n",
       "</table>\n",
       "</div>"
      ],
      "text/plain": [
       "   P         Team  GP   W   D   L   F   A  GD  Pts  \\\n",
       "0  1  Real Madrid  38  29   8   1  87  26  61   95   \n",
       "1  2    Barcelona  38  26   7   5  79  44  35   85   \n",
       "2  3       Girona  38  25   6   7  85  46  39   81   \n",
       "3  4     Atlético  38  24   4  10  70  43  27   76   \n",
       "4  5     A Bilbao  38  19  11   8  61  37  24   68   \n",
       "\n",
       "                                                Form  \n",
       "0  Won 3-0 against Cadiz  Won 4-0 against Granada...  \n",
       "1  Lost 2-4 to Girona  Won 2-0 against Real Socie...  \n",
       "2  Won 4-2 against Barcelona  Drew 2-2 with Alave...  \n",
       "3  Won 1-0 against Mallorca  Won 1-0 against Celt...  \n",
       "4  Won 2-0 against Getafe  Drew 2-2 with Osasuna ...  "
      ]
     },
     "execution_count": 5,
     "metadata": {},
     "output_type": "execute_result"
    }
   ],
   "source": [
    "df = tables[0]\n",
    "df.head()"
   ]
  },
  {
   "cell_type": "code",
   "execution_count": null,
   "id": "44e5dc42-6884-4a57-b9b2-320e11b5bc57",
   "metadata": {},
   "outputs": [],
   "source": [
    "tables = pd.read_html"
   ]
  },
  {
   "cell_type": "code",
   "execution_count": 6,
   "id": "2da6face-56fd-424a-8520-2dcc434ce1fa",
   "metadata": {},
   "outputs": [],
   "source": [
    "df.to_csv(\"teams.csv\")"
   ]
  },
  {
   "cell_type": "code",
   "execution_count": null,
   "id": "ef9020ec-e2fe-4204-9b39-582a3816a101",
   "metadata": {},
   "outputs": [],
   "source": []
  },
  {
   "cell_type": "code",
   "execution_count": 7,
   "id": "ec68103e-06f7-46a6-9cc7-bca464cbc1e4",
   "metadata": {},
   "outputs": [],
   "source": [
    "#pd.read_csv(\"teams.csv\")"
   ]
  },
  {
   "cell_type": "code",
   "execution_count": 8,
   "id": "2948ffa0-f20e-4152-af3a-338bca7462d3",
   "metadata": {},
   "outputs": [],
   "source": [
    "#Always index=False\n",
    "df.to_csv(\"teams.csv\", index = False)"
   ]
  },
  {
   "cell_type": "code",
   "execution_count": 9,
   "id": "2a5429ac-799f-4b19-b4b9-185e0c3779f1",
   "metadata": {},
   "outputs": [
    {
     "ename": "NameError",
     "evalue": "name 'data' is not defined",
     "output_type": "error",
     "traceback": [
      "\u001b[0;31m---------------------------------------------------------------------------\u001b[0m",
      "\u001b[0;31mNameError\u001b[0m                                 Traceback (most recent call last)",
      "Cell \u001b[0;32mIn[9], line 1\u001b[0m\n\u001b[0;32m----> 1\u001b[0m pd\u001b[38;5;241m.\u001b[39mjson_normalize(\u001b[43mdata\u001b[49m[\u001b[38;5;124m'\u001b[39m\u001b[38;5;124mforecast\u001b[39m\u001b[38;5;124m'\u001b[39m][\u001b[38;5;124m'\u001b[39m\u001b[38;5;124mforecastday\u001b[39m\u001b[38;5;124m'\u001b[39m])\n",
      "\u001b[0;31mNameError\u001b[0m: name 'data' is not defined"
     ]
    }
   ],
   "source": [
    "pd.json_normalize(data['forecast']['forecastday'])"
   ]
  },
  {
   "cell_type": "code",
   "execution_count": null,
   "id": "95bce2de-dcb5-46cf-b6dd-e7fda1aae147",
   "metadata": {},
   "outputs": [],
   "source": []
  }
 ],
 "metadata": {
  "kernelspec": {
   "display_name": "Python 3 (ipykernel)",
   "language": "python",
   "name": "python3"
  },
  "language_info": {
   "codemirror_mode": {
    "name": "ipython",
    "version": 3
   },
   "file_extension": ".py",
   "mimetype": "text/x-python",
   "name": "python",
   "nbconvert_exporter": "python",
   "pygments_lexer": "ipython3",
   "version": "3.11.8"
  }
 },
 "nbformat": 4,
 "nbformat_minor": 5
}
